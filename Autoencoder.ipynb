{
  "nbformat": 4,
  "nbformat_minor": 0,
  "metadata": {
    "colab": {
      "provenance": [],
      "gpuType": "T4",
      "authorship_tag": "ABX9TyML/t8DHVTLlzczIAGWe7jT",
      "include_colab_link": true
    },
    "kernelspec": {
      "name": "python3",
      "display_name": "Python 3"
    },
    "language_info": {
      "name": "python"
    },
    "accelerator": "GPU"
  },
  "cells": [
    {
      "cell_type": "markdown",
      "metadata": {
        "id": "view-in-github",
        "colab_type": "text"
      },
      "source": [
        "<a href=\"https://colab.research.google.com/github/amanda-araujo/redes-neurais-aprendizado-profundo/blob/main/Autoencoder.ipynb\" target=\"_parent\"><img src=\"https://colab.research.google.com/assets/colab-badge.svg\" alt=\"Open In Colab\"/></a>"
      ]
    },
    {
      "cell_type": "markdown",
      "source": [
        "# Autoencoder"
      ],
      "metadata": {
        "id": "IWNZDM9bE5cA"
      }
    },
    {
      "cell_type": "code",
      "execution_count": 3,
      "metadata": {
        "colab": {
          "base_uri": "https://localhost:8080/",
          "height": 651
        },
        "id": "Id_4mMlYiihn",
        "outputId": "d8bea3d2-c4bd-4ce3-a2f8-a9937ff3bfc4"
      },
      "outputs": [
        {
          "output_type": "stream",
          "name": "stdout",
          "text": [
            "MNIST format: torch.Size([1, 28, 28]) Class of the first example: 5\n",
            "Flowers102 format: torch.Size([3, 64, 64]) Class of the first example: 0\n",
            "cuda\n",
            "Flowers102:\n",
            "Epoch [1/50], Loss: 0.0832\n",
            "Epoch [6/50], Loss: 0.0782\n",
            "Epoch [11/50], Loss: 0.0375\n",
            "Epoch [16/50], Loss: 0.0236\n",
            "Epoch [21/50], Loss: 0.0173\n",
            "Epoch [26/50], Loss: 0.0152\n",
            "Epoch [31/50], Loss: 0.0125\n",
            "Epoch [36/50], Loss: 0.0124\n",
            "Epoch [41/50], Loss: 0.0118\n",
            "Epoch [46/50], Loss: 0.0119\n",
            "MNIST\n"
          ]
        },
        {
          "output_type": "error",
          "ename": "RuntimeError",
          "evalue": "ignored",
          "traceback": [
            "\u001b[0;31m---------------------------------------------------------------------------\u001b[0m",
            "\u001b[0;31mRuntimeError\u001b[0m                              Traceback (most recent call last)",
            "\u001b[0;32m<ipython-input-3-d3b79073f1c5>\u001b[0m in \u001b[0;36m<cell line: 127>\u001b[0;34m()\u001b[0m\n\u001b[1;32m    130\u001b[0m         \u001b[0mimg\u001b[0m \u001b[0;34m=\u001b[0m \u001b[0mimg\u001b[0m\u001b[0;34m.\u001b[0m\u001b[0mto\u001b[0m\u001b[0;34m(\u001b[0m\u001b[0mdevice\u001b[0m\u001b[0;34m)\u001b[0m\u001b[0;34m\u001b[0m\u001b[0;34m\u001b[0m\u001b[0m\n\u001b[1;32m    131\u001b[0m         \u001b[0moptimizer\u001b[0m\u001b[0;34m.\u001b[0m\u001b[0mzero_grad\u001b[0m\u001b[0;34m(\u001b[0m\u001b[0;34m)\u001b[0m\u001b[0;34m\u001b[0m\u001b[0;34m\u001b[0m\u001b[0m\n\u001b[0;32m--> 132\u001b[0;31m         \u001b[0moutput\u001b[0m \u001b[0;34m=\u001b[0m \u001b[0mmodel\u001b[0m\u001b[0;34m(\u001b[0m\u001b[0mimg\u001b[0m\u001b[0;34m)\u001b[0m\u001b[0;34m\u001b[0m\u001b[0;34m\u001b[0m\u001b[0m\n\u001b[0m\u001b[1;32m    133\u001b[0m         \u001b[0mloss\u001b[0m \u001b[0;34m=\u001b[0m \u001b[0mcriterion\u001b[0m\u001b[0;34m(\u001b[0m\u001b[0moutput\u001b[0m\u001b[0;34m,\u001b[0m \u001b[0mimg\u001b[0m\u001b[0;34m)\u001b[0m\u001b[0;34m\u001b[0m\u001b[0;34m\u001b[0m\u001b[0m\n\u001b[1;32m    134\u001b[0m         \u001b[0mloss\u001b[0m\u001b[0;34m.\u001b[0m\u001b[0mbackward\u001b[0m\u001b[0;34m(\u001b[0m\u001b[0;34m)\u001b[0m\u001b[0;34m\u001b[0m\u001b[0;34m\u001b[0m\u001b[0m\n",
            "\u001b[0;32m/usr/local/lib/python3.10/dist-packages/torch/nn/modules/module.py\u001b[0m in \u001b[0;36m_wrapped_call_impl\u001b[0;34m(self, *args, **kwargs)\u001b[0m\n\u001b[1;32m   1516\u001b[0m             \u001b[0;32mreturn\u001b[0m \u001b[0mself\u001b[0m\u001b[0;34m.\u001b[0m\u001b[0m_compiled_call_impl\u001b[0m\u001b[0;34m(\u001b[0m\u001b[0;34m*\u001b[0m\u001b[0margs\u001b[0m\u001b[0;34m,\u001b[0m \u001b[0;34m**\u001b[0m\u001b[0mkwargs\u001b[0m\u001b[0;34m)\u001b[0m  \u001b[0;31m# type: ignore[misc]\u001b[0m\u001b[0;34m\u001b[0m\u001b[0;34m\u001b[0m\u001b[0m\n\u001b[1;32m   1517\u001b[0m         \u001b[0;32melse\u001b[0m\u001b[0;34m:\u001b[0m\u001b[0;34m\u001b[0m\u001b[0;34m\u001b[0m\u001b[0m\n\u001b[0;32m-> 1518\u001b[0;31m             \u001b[0;32mreturn\u001b[0m \u001b[0mself\u001b[0m\u001b[0;34m.\u001b[0m\u001b[0m_call_impl\u001b[0m\u001b[0;34m(\u001b[0m\u001b[0;34m*\u001b[0m\u001b[0margs\u001b[0m\u001b[0;34m,\u001b[0m \u001b[0;34m**\u001b[0m\u001b[0mkwargs\u001b[0m\u001b[0;34m)\u001b[0m\u001b[0;34m\u001b[0m\u001b[0;34m\u001b[0m\u001b[0m\n\u001b[0m\u001b[1;32m   1519\u001b[0m \u001b[0;34m\u001b[0m\u001b[0m\n\u001b[1;32m   1520\u001b[0m     \u001b[0;32mdef\u001b[0m \u001b[0m_call_impl\u001b[0m\u001b[0;34m(\u001b[0m\u001b[0mself\u001b[0m\u001b[0;34m,\u001b[0m \u001b[0;34m*\u001b[0m\u001b[0margs\u001b[0m\u001b[0;34m,\u001b[0m \u001b[0;34m**\u001b[0m\u001b[0mkwargs\u001b[0m\u001b[0;34m)\u001b[0m\u001b[0;34m:\u001b[0m\u001b[0;34m\u001b[0m\u001b[0;34m\u001b[0m\u001b[0m\n",
            "\u001b[0;32m/usr/local/lib/python3.10/dist-packages/torch/nn/modules/module.py\u001b[0m in \u001b[0;36m_call_impl\u001b[0;34m(self, *args, **kwargs)\u001b[0m\n\u001b[1;32m   1525\u001b[0m                 \u001b[0;32mor\u001b[0m \u001b[0m_global_backward_pre_hooks\u001b[0m \u001b[0;32mor\u001b[0m \u001b[0m_global_backward_hooks\u001b[0m\u001b[0;34m\u001b[0m\u001b[0;34m\u001b[0m\u001b[0m\n\u001b[1;32m   1526\u001b[0m                 or _global_forward_hooks or _global_forward_pre_hooks):\n\u001b[0;32m-> 1527\u001b[0;31m             \u001b[0;32mreturn\u001b[0m \u001b[0mforward_call\u001b[0m\u001b[0;34m(\u001b[0m\u001b[0;34m*\u001b[0m\u001b[0margs\u001b[0m\u001b[0;34m,\u001b[0m \u001b[0;34m**\u001b[0m\u001b[0mkwargs\u001b[0m\u001b[0;34m)\u001b[0m\u001b[0;34m\u001b[0m\u001b[0;34m\u001b[0m\u001b[0m\n\u001b[0m\u001b[1;32m   1528\u001b[0m \u001b[0;34m\u001b[0m\u001b[0m\n\u001b[1;32m   1529\u001b[0m         \u001b[0;32mtry\u001b[0m\u001b[0;34m:\u001b[0m\u001b[0;34m\u001b[0m\u001b[0;34m\u001b[0m\u001b[0m\n",
            "\u001b[0;32m<ipython-input-3-d3b79073f1c5>\u001b[0m in \u001b[0;36mforward\u001b[0;34m(self, x)\u001b[0m\n\u001b[1;32m     39\u001b[0m \u001b[0;34m\u001b[0m\u001b[0m\n\u001b[1;32m     40\u001b[0m   \u001b[0;32mdef\u001b[0m \u001b[0mforward\u001b[0m\u001b[0;34m(\u001b[0m\u001b[0mself\u001b[0m\u001b[0;34m,\u001b[0m \u001b[0mx\u001b[0m\u001b[0;34m)\u001b[0m\u001b[0;34m:\u001b[0m\u001b[0;34m\u001b[0m\u001b[0;34m\u001b[0m\u001b[0m\n\u001b[0;32m---> 41\u001b[0;31m     \u001b[0mx\u001b[0m \u001b[0;34m=\u001b[0m \u001b[0mself\u001b[0m\u001b[0;34m.\u001b[0m\u001b[0mencoder\u001b[0m\u001b[0;34m(\u001b[0m\u001b[0mx\u001b[0m\u001b[0;34m)\u001b[0m\u001b[0;34m\u001b[0m\u001b[0;34m\u001b[0m\u001b[0m\n\u001b[0m\u001b[1;32m     42\u001b[0m     \u001b[0mx\u001b[0m \u001b[0;34m=\u001b[0m \u001b[0mself\u001b[0m\u001b[0;34m.\u001b[0m\u001b[0mdecoder\u001b[0m\u001b[0;34m(\u001b[0m\u001b[0mx\u001b[0m\u001b[0;34m)\u001b[0m\u001b[0;34m\u001b[0m\u001b[0;34m\u001b[0m\u001b[0m\n\u001b[1;32m     43\u001b[0m     \u001b[0;32mreturn\u001b[0m \u001b[0mx\u001b[0m\u001b[0;34m\u001b[0m\u001b[0;34m\u001b[0m\u001b[0m\n",
            "\u001b[0;32m/usr/local/lib/python3.10/dist-packages/torch/nn/modules/module.py\u001b[0m in \u001b[0;36m_wrapped_call_impl\u001b[0;34m(self, *args, **kwargs)\u001b[0m\n\u001b[1;32m   1516\u001b[0m             \u001b[0;32mreturn\u001b[0m \u001b[0mself\u001b[0m\u001b[0;34m.\u001b[0m\u001b[0m_compiled_call_impl\u001b[0m\u001b[0;34m(\u001b[0m\u001b[0;34m*\u001b[0m\u001b[0margs\u001b[0m\u001b[0;34m,\u001b[0m \u001b[0;34m**\u001b[0m\u001b[0mkwargs\u001b[0m\u001b[0;34m)\u001b[0m  \u001b[0;31m# type: ignore[misc]\u001b[0m\u001b[0;34m\u001b[0m\u001b[0;34m\u001b[0m\u001b[0m\n\u001b[1;32m   1517\u001b[0m         \u001b[0;32melse\u001b[0m\u001b[0;34m:\u001b[0m\u001b[0;34m\u001b[0m\u001b[0;34m\u001b[0m\u001b[0m\n\u001b[0;32m-> 1518\u001b[0;31m             \u001b[0;32mreturn\u001b[0m \u001b[0mself\u001b[0m\u001b[0;34m.\u001b[0m\u001b[0m_call_impl\u001b[0m\u001b[0;34m(\u001b[0m\u001b[0;34m*\u001b[0m\u001b[0margs\u001b[0m\u001b[0;34m,\u001b[0m \u001b[0;34m**\u001b[0m\u001b[0mkwargs\u001b[0m\u001b[0;34m)\u001b[0m\u001b[0;34m\u001b[0m\u001b[0;34m\u001b[0m\u001b[0m\n\u001b[0m\u001b[1;32m   1519\u001b[0m \u001b[0;34m\u001b[0m\u001b[0m\n\u001b[1;32m   1520\u001b[0m     \u001b[0;32mdef\u001b[0m \u001b[0m_call_impl\u001b[0m\u001b[0;34m(\u001b[0m\u001b[0mself\u001b[0m\u001b[0;34m,\u001b[0m \u001b[0;34m*\u001b[0m\u001b[0margs\u001b[0m\u001b[0;34m,\u001b[0m \u001b[0;34m**\u001b[0m\u001b[0mkwargs\u001b[0m\u001b[0;34m)\u001b[0m\u001b[0;34m:\u001b[0m\u001b[0;34m\u001b[0m\u001b[0;34m\u001b[0m\u001b[0m\n",
            "\u001b[0;32m/usr/local/lib/python3.10/dist-packages/torch/nn/modules/module.py\u001b[0m in \u001b[0;36m_call_impl\u001b[0;34m(self, *args, **kwargs)\u001b[0m\n\u001b[1;32m   1525\u001b[0m                 \u001b[0;32mor\u001b[0m \u001b[0m_global_backward_pre_hooks\u001b[0m \u001b[0;32mor\u001b[0m \u001b[0m_global_backward_hooks\u001b[0m\u001b[0;34m\u001b[0m\u001b[0;34m\u001b[0m\u001b[0m\n\u001b[1;32m   1526\u001b[0m                 or _global_forward_hooks or _global_forward_pre_hooks):\n\u001b[0;32m-> 1527\u001b[0;31m             \u001b[0;32mreturn\u001b[0m \u001b[0mforward_call\u001b[0m\u001b[0;34m(\u001b[0m\u001b[0;34m*\u001b[0m\u001b[0margs\u001b[0m\u001b[0;34m,\u001b[0m \u001b[0;34m**\u001b[0m\u001b[0mkwargs\u001b[0m\u001b[0;34m)\u001b[0m\u001b[0;34m\u001b[0m\u001b[0;34m\u001b[0m\u001b[0m\n\u001b[0m\u001b[1;32m   1528\u001b[0m \u001b[0;34m\u001b[0m\u001b[0m\n\u001b[1;32m   1529\u001b[0m         \u001b[0;32mtry\u001b[0m\u001b[0;34m:\u001b[0m\u001b[0;34m\u001b[0m\u001b[0;34m\u001b[0m\u001b[0m\n",
            "\u001b[0;32m/usr/local/lib/python3.10/dist-packages/torch/nn/modules/container.py\u001b[0m in \u001b[0;36mforward\u001b[0;34m(self, input)\u001b[0m\n\u001b[1;32m    213\u001b[0m     \u001b[0;32mdef\u001b[0m \u001b[0mforward\u001b[0m\u001b[0;34m(\u001b[0m\u001b[0mself\u001b[0m\u001b[0;34m,\u001b[0m \u001b[0minput\u001b[0m\u001b[0;34m)\u001b[0m\u001b[0;34m:\u001b[0m\u001b[0;34m\u001b[0m\u001b[0;34m\u001b[0m\u001b[0m\n\u001b[1;32m    214\u001b[0m         \u001b[0;32mfor\u001b[0m \u001b[0mmodule\u001b[0m \u001b[0;32min\u001b[0m \u001b[0mself\u001b[0m\u001b[0;34m:\u001b[0m\u001b[0;34m\u001b[0m\u001b[0;34m\u001b[0m\u001b[0m\n\u001b[0;32m--> 215\u001b[0;31m             \u001b[0minput\u001b[0m \u001b[0;34m=\u001b[0m \u001b[0mmodule\u001b[0m\u001b[0;34m(\u001b[0m\u001b[0minput\u001b[0m\u001b[0;34m)\u001b[0m\u001b[0;34m\u001b[0m\u001b[0;34m\u001b[0m\u001b[0m\n\u001b[0m\u001b[1;32m    216\u001b[0m         \u001b[0;32mreturn\u001b[0m \u001b[0minput\u001b[0m\u001b[0;34m\u001b[0m\u001b[0;34m\u001b[0m\u001b[0m\n\u001b[1;32m    217\u001b[0m \u001b[0;34m\u001b[0m\u001b[0m\n",
            "\u001b[0;32m/usr/local/lib/python3.10/dist-packages/torch/nn/modules/module.py\u001b[0m in \u001b[0;36m_wrapped_call_impl\u001b[0;34m(self, *args, **kwargs)\u001b[0m\n\u001b[1;32m   1516\u001b[0m             \u001b[0;32mreturn\u001b[0m \u001b[0mself\u001b[0m\u001b[0;34m.\u001b[0m\u001b[0m_compiled_call_impl\u001b[0m\u001b[0;34m(\u001b[0m\u001b[0;34m*\u001b[0m\u001b[0margs\u001b[0m\u001b[0;34m,\u001b[0m \u001b[0;34m**\u001b[0m\u001b[0mkwargs\u001b[0m\u001b[0;34m)\u001b[0m  \u001b[0;31m# type: ignore[misc]\u001b[0m\u001b[0;34m\u001b[0m\u001b[0;34m\u001b[0m\u001b[0m\n\u001b[1;32m   1517\u001b[0m         \u001b[0;32melse\u001b[0m\u001b[0;34m:\u001b[0m\u001b[0;34m\u001b[0m\u001b[0;34m\u001b[0m\u001b[0m\n\u001b[0;32m-> 1518\u001b[0;31m             \u001b[0;32mreturn\u001b[0m \u001b[0mself\u001b[0m\u001b[0;34m.\u001b[0m\u001b[0m_call_impl\u001b[0m\u001b[0;34m(\u001b[0m\u001b[0;34m*\u001b[0m\u001b[0margs\u001b[0m\u001b[0;34m,\u001b[0m \u001b[0;34m**\u001b[0m\u001b[0mkwargs\u001b[0m\u001b[0;34m)\u001b[0m\u001b[0;34m\u001b[0m\u001b[0;34m\u001b[0m\u001b[0m\n\u001b[0m\u001b[1;32m   1519\u001b[0m \u001b[0;34m\u001b[0m\u001b[0m\n\u001b[1;32m   1520\u001b[0m     \u001b[0;32mdef\u001b[0m \u001b[0m_call_impl\u001b[0m\u001b[0;34m(\u001b[0m\u001b[0mself\u001b[0m\u001b[0;34m,\u001b[0m \u001b[0;34m*\u001b[0m\u001b[0margs\u001b[0m\u001b[0;34m,\u001b[0m \u001b[0;34m**\u001b[0m\u001b[0mkwargs\u001b[0m\u001b[0;34m)\u001b[0m\u001b[0;34m:\u001b[0m\u001b[0;34m\u001b[0m\u001b[0;34m\u001b[0m\u001b[0m\n",
            "\u001b[0;32m/usr/local/lib/python3.10/dist-packages/torch/nn/modules/module.py\u001b[0m in \u001b[0;36m_call_impl\u001b[0;34m(self, *args, **kwargs)\u001b[0m\n\u001b[1;32m   1525\u001b[0m                 \u001b[0;32mor\u001b[0m \u001b[0m_global_backward_pre_hooks\u001b[0m \u001b[0;32mor\u001b[0m \u001b[0m_global_backward_hooks\u001b[0m\u001b[0;34m\u001b[0m\u001b[0;34m\u001b[0m\u001b[0m\n\u001b[1;32m   1526\u001b[0m                 or _global_forward_hooks or _global_forward_pre_hooks):\n\u001b[0;32m-> 1527\u001b[0;31m             \u001b[0;32mreturn\u001b[0m \u001b[0mforward_call\u001b[0m\u001b[0;34m(\u001b[0m\u001b[0;34m*\u001b[0m\u001b[0margs\u001b[0m\u001b[0;34m,\u001b[0m \u001b[0;34m**\u001b[0m\u001b[0mkwargs\u001b[0m\u001b[0;34m)\u001b[0m\u001b[0;34m\u001b[0m\u001b[0;34m\u001b[0m\u001b[0m\n\u001b[0m\u001b[1;32m   1528\u001b[0m \u001b[0;34m\u001b[0m\u001b[0m\n\u001b[1;32m   1529\u001b[0m         \u001b[0;32mtry\u001b[0m\u001b[0;34m:\u001b[0m\u001b[0;34m\u001b[0m\u001b[0;34m\u001b[0m\u001b[0m\n",
            "\u001b[0;32m/usr/local/lib/python3.10/dist-packages/torch/nn/modules/conv.py\u001b[0m in \u001b[0;36mforward\u001b[0;34m(self, input)\u001b[0m\n\u001b[1;32m    458\u001b[0m \u001b[0;34m\u001b[0m\u001b[0m\n\u001b[1;32m    459\u001b[0m     \u001b[0;32mdef\u001b[0m \u001b[0mforward\u001b[0m\u001b[0;34m(\u001b[0m\u001b[0mself\u001b[0m\u001b[0;34m,\u001b[0m \u001b[0minput\u001b[0m\u001b[0;34m:\u001b[0m \u001b[0mTensor\u001b[0m\u001b[0;34m)\u001b[0m \u001b[0;34m->\u001b[0m \u001b[0mTensor\u001b[0m\u001b[0;34m:\u001b[0m\u001b[0;34m\u001b[0m\u001b[0;34m\u001b[0m\u001b[0m\n\u001b[0;32m--> 460\u001b[0;31m         \u001b[0;32mreturn\u001b[0m \u001b[0mself\u001b[0m\u001b[0;34m.\u001b[0m\u001b[0m_conv_forward\u001b[0m\u001b[0;34m(\u001b[0m\u001b[0minput\u001b[0m\u001b[0;34m,\u001b[0m \u001b[0mself\u001b[0m\u001b[0;34m.\u001b[0m\u001b[0mweight\u001b[0m\u001b[0;34m,\u001b[0m \u001b[0mself\u001b[0m\u001b[0;34m.\u001b[0m\u001b[0mbias\u001b[0m\u001b[0;34m)\u001b[0m\u001b[0;34m\u001b[0m\u001b[0;34m\u001b[0m\u001b[0m\n\u001b[0m\u001b[1;32m    461\u001b[0m \u001b[0;34m\u001b[0m\u001b[0m\n\u001b[1;32m    462\u001b[0m \u001b[0;32mclass\u001b[0m \u001b[0mConv3d\u001b[0m\u001b[0;34m(\u001b[0m\u001b[0m_ConvNd\u001b[0m\u001b[0;34m)\u001b[0m\u001b[0;34m:\u001b[0m\u001b[0;34m\u001b[0m\u001b[0;34m\u001b[0m\u001b[0m\n",
            "\u001b[0;32m/usr/local/lib/python3.10/dist-packages/torch/nn/modules/conv.py\u001b[0m in \u001b[0;36m_conv_forward\u001b[0;34m(self, input, weight, bias)\u001b[0m\n\u001b[1;32m    454\u001b[0m                             \u001b[0mweight\u001b[0m\u001b[0;34m,\u001b[0m \u001b[0mbias\u001b[0m\u001b[0;34m,\u001b[0m \u001b[0mself\u001b[0m\u001b[0;34m.\u001b[0m\u001b[0mstride\u001b[0m\u001b[0;34m,\u001b[0m\u001b[0;34m\u001b[0m\u001b[0;34m\u001b[0m\u001b[0m\n\u001b[1;32m    455\u001b[0m                             _pair(0), self.dilation, self.groups)\n\u001b[0;32m--> 456\u001b[0;31m         return F.conv2d(input, weight, bias, self.stride,\n\u001b[0m\u001b[1;32m    457\u001b[0m                         self.padding, self.dilation, self.groups)\n\u001b[1;32m    458\u001b[0m \u001b[0;34m\u001b[0m\u001b[0m\n",
            "\u001b[0;31mRuntimeError\u001b[0m: Given groups=1, weight of size [16, 3, 3, 3], expected input[128, 1, 28, 28] to have 3 channels, but got 1 channels instead"
          ]
        }
      ],
      "source": [
        "# AUTOENCODER\n",
        "\n",
        "# Libraries and packages\n",
        "import torch\n",
        "import torch.nn as nn\n",
        "import torch.optim as optim\n",
        "import torchvision.datasets as datasets\n",
        "import torchvision.transforms as transforms\n",
        "from torchvision.datasets import MNIST\n",
        "from torchvision.transforms import ToTensor\n",
        "\n",
        "# Autoencoder architecture\n",
        "class Autoencoder(nn.Module):\n",
        "  def __init__(self):\n",
        "    super(Autoencoder, self).__init__()\n",
        "\n",
        "    self.encoder = nn.Sequential(\n",
        "        nn.Conv2d(3, 16, kernel_size=3, stride=1, padding=1),\n",
        "        nn.ReLU(),\n",
        "        nn.MaxPool2d(kernel_size=2, stride=2),\n",
        "        nn.Conv2d(16, 8, kernel_size=3, stride=1, padding=1),\n",
        "        nn.ReLU(),\n",
        "        nn.MaxPool2d(kernel_size=2, stride=2)\n",
        "    )\n",
        "    self.decoder = nn.Sequential(\n",
        "        nn.ConvTranspose2d(8, 16,\n",
        "                               kernel_size=3,\n",
        "                               stride=2,\n",
        "                               padding=1,\n",
        "                               output_padding=1),\n",
        "        nn.ReLU(),\n",
        "        nn.ConvTranspose2d(16, 3,\n",
        "                            kernel_size=3,\n",
        "                            stride=2,\n",
        "                            padding=1,\n",
        "                            output_padding=1),\n",
        "        nn.Sigmoid()\n",
        "    )\n",
        "\n",
        "  def forward(self, x):\n",
        "    x = self.encoder(x)\n",
        "    x = self.decoder(x)\n",
        "    return x\n",
        "\n",
        "# Initialize the autoencoder\n",
        "model = Autoencoder()\n",
        "\n",
        "# Define transform (x): ToTensor()\n",
        "'''Flowers102: unequal tensor sizes; stack expects each tensor to be equal size, but got [3, 620, 500] at entry 0 and [3, 500, 752] at entry 1'''\n",
        "transform = transforms.Compose([\n",
        "    transforms.Resize((64, 64)),\n",
        "    transforms.ToTensor(),\n",
        "])\n",
        "\n",
        "# Load dataset\n",
        "'''MNIST'''\n",
        "training_data = MNIST( #60.000 samples for training and 10.000 for testing.\n",
        "    root=\"data\",       #root: caminho onde os dados serão armazenados localmente\n",
        "    train=True,        #train: variável binária dados de treinamento (True) e teste (False)\n",
        "    download=True,     #download: se True faz download da Internet caso os dados não estejam disponíveis localmente\n",
        "    transform=ToTensor() #transform e target_transform especifica transformações para as features e labels.\n",
        ")\n",
        "\n",
        "testing_data = MNIST(\n",
        "    root=\"data\",\n",
        "    train=False,        #train: treinamento (True) e teste (False)\n",
        "    download=True,\n",
        "    transform=ToTensor()\n",
        ")\n",
        "\n",
        "'''Flowers102'''\n",
        "train_dataset2 = datasets.Flowers102(root='flowers',\n",
        "                                    split='train',\n",
        "                                    transform=transform,\n",
        "                                    download=True)\n",
        "test_dataset2 = datasets.Flowers102(root='flowers',\n",
        "                                   split='test',\n",
        "                                   transform=transform)\n",
        "\n",
        "print(\"MNIST format:\", training_data[0][0].shape, \"Class of the first example:\", training_data[0][1])\n",
        "print(\"Flowers102 format:\", train_dataset2[0][0].shape, \"Class of the first example:\", train_dataset2[0][1])\n",
        "#500*764=382000\n",
        "\n",
        "# Define dataloader\n",
        "batch_size = 128\n",
        "'''MNIST'''\n",
        "train_loader = torch.utils.data.DataLoader(dataset=training_data,\n",
        "                                           batch_size=batch_size,\n",
        "                                           shuffle=True)\n",
        "test_loader = torch.utils.data.DataLoader(dataset=testing_data,\n",
        "                                          batch_size=batch_size)\n",
        "'''Flowers102'''\n",
        "train_loader2 = torch.utils.data.DataLoader(dataset=train_dataset2,\n",
        "                                           batch_size=batch_size,\n",
        "                                           shuffle=True)\n",
        "test_loader2 = torch.utils.data.DataLoader(dataset=test_dataset2,\n",
        "                                          batch_size=batch_size)\n",
        "\n",
        "# Move the model to GPU\n",
        "device = torch.device('cuda' if torch.cuda.is_available() else 'cpu')\n",
        "print(device)\n",
        "model.to(device)\n",
        "\n",
        "# Define the loss function and optimizer\n",
        "criterion = nn.MSELoss()  #mean squared error between each element in the input x and target y\n",
        "optimizer = optim.Adam(model.parameters(), lr=0.001)\n",
        "\n",
        "# Train the autoencoder\n",
        "num_epochs = 50\n",
        "\n",
        "'''Flowers102: 3m55s'''\n",
        "print(\"Flowers102:\")\n",
        "for epoch in range(num_epochs):\n",
        "    for data in train_loader2:\n",
        "        img, _ = data\n",
        "        img = img.to(device)\n",
        "        optimizer.zero_grad()\n",
        "        output = model(img)\n",
        "        loss = criterion(output, img)\n",
        "        loss.backward()\n",
        "        optimizer.step()\n",
        "    if epoch % 5== 0:\n",
        "        print('Epoch [{}/{}], Loss: {:.4f}'.format(epoch+1, num_epochs, loss.item()))\n",
        "\n",
        "'''MNIST'''\n",
        "print(\"MNIST\")\n",
        "for epoch in range(num_epochs):\n",
        "    for data in train_loader:\n",
        "        img, _ = data\n",
        "        img = img.to(device)\n",
        "        optimizer.zero_grad()\n",
        "        output = model(img)\n",
        "        loss = criterion(output, img)\n",
        "        loss.backward()\n",
        "        optimizer.step()\n",
        "    if epoch % 5== 0:\n",
        "        print('Epoch [{}/{}], Loss: {:.4f}'.format(epoch+1, num_epochs, loss.item()))"
      ]
    },
    {
      "cell_type": "markdown",
      "source": [
        "> Para o conjunto de dados Flowers102, o autoencoder funciona perfeitamente, e a função de perda (loss) diminui conforme passam as *epocs*. Problemas com MNIST... investigando formatos:"
      ],
      "metadata": {
        "id": "6w89SrlS2iia"
      }
    },
    {
      "cell_type": "code",
      "source": [
        "# Shape image dataset\n",
        "\n",
        "'''MNIST'''\n",
        "print(\"MNIST--------\")\n",
        "\n",
        "dataiter = iter(test_loader)\n",
        "imgs, _ = next(dataiter)\n",
        "\n",
        "# Lets se the shape of 1 image\n",
        "img = imgs[1]\n",
        "print(\"Image shape:\", img.shape, '\\n')\n",
        "\n",
        "'''Flowers102'''\n",
        "print(\"Flowers102---------\")\n",
        "dataiter = iter(test_loader2)\n",
        "imgs, _ = next(dataiter)\n",
        "\n",
        "# Lets se the shape of 1 image\n",
        "img = imgs[1]\n",
        "print(\"Image shape:\", img.shape, '\\n')"
      ],
      "metadata": {
        "colab": {
          "base_uri": "https://localhost:8080/"
        },
        "id": "gCRLgE6muRYW",
        "outputId": "3326ddd0-6b76-4570-aa58-23525d254527"
      },
      "execution_count": 6,
      "outputs": [
        {
          "output_type": "stream",
          "name": "stdout",
          "text": [
            "MNIST--------\n",
            "Image shape: torch.Size([1, 28, 28]) \n",
            "\n",
            "Flowers102---------\n",
            "Image shape: torch.Size([3, 64, 64]) \n",
            "\n"
          ]
        }
      ]
    },
    {
      "cell_type": "markdown",
      "source": [
        "A arquitetura do autoencoder é alterada dependendo do tamanho da imagem (input). Nesse caso, Flowers102 tem formato [3, 64, 64] - 3 canais, enquanto MNIST apresenta [1, 28, 28] - apenas 1 canal. Ao tentar aplicar o autoencoder tendo como entrada uma imagem de MNIST obtém se erro:\n",
        "  \n",
        "  > \"Given groups=1, weight of size [16, 3, 3, 3], expected input[128, 1, 28, 28] to have 3 channels, but got 1 channels instead\"\n",
        "\n",
        "\n",
        "\n",
        "\n",
        "Ou seja, o autoenconder deve ser construído tendo em mente o formato dos dados que a rede receberá e terá de lidar com. O tamanho de entrada da primeira camada da rede (in_channel) deve estar de acordo com o tamanho da imagem do conjunto de dados a ser passado. No caso, aparaentemente in_channels = #número de canais do input."
      ],
      "metadata": {
        "id": "ej644Bffu1Gw"
      }
    },
    {
      "cell_type": "markdown",
      "source": [
        "# Autoencoder: T2 (MNIST)"
      ],
      "metadata": {
        "id": "s67t28ActM_U"
      }
    },
    {
      "cell_type": "code",
      "source": [
        "# Libraries and packages\n",
        "import torch\n",
        "import torch.nn as nn\n",
        "import torch.optim as optim\n",
        "import torchvision.datasets as datasets\n",
        "import torchvision.transforms as transforms\n",
        "from torchvision.datasets import MNIST\n",
        "from torchvision.transforms import ToTensor"
      ],
      "metadata": {
        "id": "tvQlnpU9tSbc"
      },
      "execution_count": 10,
      "outputs": []
    },
    {
      "cell_type": "code",
      "source": [
        "# Autoencoder architecture T2\n",
        "class Autoencoder(nn.Module):\n",
        "  def __init__(self):\n",
        "    super(Autoencoder, self).__init__()\n",
        "\n",
        "    self.encoder = nn.Sequential(\n",
        "        nn.Conv2d(1, 32, kernel_size=3, stride=1, padding=1), #in_channels, out_channels= #filters\n",
        "        nn.ReLU(),\n",
        "        nn.MaxPool2d(kernel_size=2, stride=2, padding=0),\n",
        "        nn.Conv2d(32, 64, kernel_size=3, stride=1, padding=1),\n",
        "        nn.ReLU(),\n",
        "        nn.MaxPool2d(kernel_size=2, stride=2, padding=0)\n",
        "    )\n",
        "\n",
        "    # flatten: tensor to vector (conv to linear)\n",
        "    self.linear_encoder = nn.Sequential(\n",
        "        nn.Linear(64*7*7, 128),\n",
        "        nn.ReLU()\n",
        "    )\n",
        "\n",
        "    self.linear_decoder = nn.Sequential(\n",
        "        nn.Linear(128, 64*7*7),\n",
        "        nn.ReLU()\n",
        "    )\n",
        "\n",
        "    # (non)flatten: vector to tensor (linear to conv)\n",
        "    self.decoder = nn.Sequential(\n",
        "        nn.ConvTranspose2d(64, 32,\n",
        "                               kernel_size=2,\n",
        "                               stride=2),\n",
        "                               #padding=1,\n",
        "                               #output_padding=1),\n",
        "        nn.ReLU(),\n",
        "        nn.ConvTranspose2d(32, 1,\n",
        "                            kernel_size=2,\n",
        "                            stride=2),\n",
        "                            #padding=1,\n",
        "                            #output_padding=1),\n",
        "        nn.Sigmoid()\n",
        "    )\n",
        "\n",
        "  def forward(self, x):\n",
        "    # print(\"shape initial:\")\n",
        "    # print(x.shape)\n",
        "\n",
        "    x = self.encoder(x)\n",
        "    # print(\"shape after encoder (conv):\")\n",
        "    # print(x.shape)\n",
        "\n",
        "    # for flattening (to allow use linear layers) we need to change the dimension to a vector\n",
        "    x = x.view(x.size(0), -1)\n",
        "    # print(\"shape after flattening:\")\n",
        "    # print(x.shape)\n",
        "\n",
        "    x = self.linear_encoder(x)\n",
        "    # print(\"shape after encoder (linear):\")\n",
        "    # print(x.shape)\n",
        "\n",
        "    x = self.linear_decoder(x)\n",
        "    # print(\"shape after decoder (linear):\")\n",
        "    # print(x.shape)\n",
        "\n",
        "    # for the inverse (linear to conv; vector to tensor)\n",
        "    x = x.view(x.size(0), 64, 7, 7) #64*7*7\n",
        "    # print(\"shape after inverse flattening (vector to tensor):\")\n",
        "    # print(x.shape)\n",
        "\n",
        "    x = self.decoder(x)\n",
        "    # print(\"shape after decoder (conv):\")\n",
        "    # print(x.shape)\n",
        "    return x"
      ],
      "metadata": {
        "id": "lVrNwdbCtO4t"
      },
      "execution_count": 60,
      "outputs": []
    },
    {
      "cell_type": "code",
      "source": [
        "# Initialize the autoencoder\n",
        "model = Autoencoder()"
      ],
      "metadata": {
        "id": "yhsga5VbzhQH"
      },
      "execution_count": 61,
      "outputs": []
    },
    {
      "cell_type": "code",
      "source": [
        "# Load dataset\n",
        "'''MNIST'''\n",
        "training_data = MNIST( #60.000 samples for training and 10.000 for testing.\n",
        "    root=\"data\",       #root: caminho onde os dados serão armazenados localmente\n",
        "    train=True,        #train: variável binária dados de treinamento (True) e teste (False)\n",
        "    download=True,     #download: se True faz download da Internet caso os dados não estejam disponíveis localmente\n",
        "    transform=ToTensor() #transform e target_transform especifica transformações para as features e labels.\n",
        ")\n",
        "\n",
        "testing_data = MNIST(\n",
        "    root=\"data\",\n",
        "    train=False,        #train: treinamento (True) e teste (False)\n",
        "    download=True,\n",
        "    transform=ToTensor()\n",
        ")\n",
        "print(\"MNIST format:\", training_data[0][0].shape, \"Class of the first example:\", training_data[0][1])\n",
        "\n",
        "# Define dataloader\n",
        "batch_size = 128\n",
        "'''MNIST'''\n",
        "train_loader = torch.utils.data.DataLoader(dataset=training_data,\n",
        "                                           batch_size=batch_size,\n",
        "                                           shuffle=True)\n",
        "\n",
        "test_loader = torch.utils.data.DataLoader(dataset=testing_data,\n",
        "                                          batch_size=batch_size)"
      ],
      "metadata": {
        "id": "h4JaufnPDKBH"
      },
      "execution_count": null,
      "outputs": []
    },
    {
      "cell_type": "code",
      "source": [
        "# Move the model to GPU\n",
        "device = torch.device('cuda' if torch.cuda.is_available() else 'cpu')\n",
        "print(device)\n",
        "model.to(device)"
      ],
      "metadata": {
        "colab": {
          "base_uri": "https://localhost:8080/"
        },
        "id": "if33Zb0ozjcP",
        "outputId": "8a051c30-6926-475d-b7d5-bc0f4ec66beb"
      },
      "execution_count": 62,
      "outputs": [
        {
          "output_type": "stream",
          "name": "stdout",
          "text": [
            "cuda\n"
          ]
        },
        {
          "output_type": "execute_result",
          "data": {
            "text/plain": [
              "Autoencoder(\n",
              "  (encoder): Sequential(\n",
              "    (0): Conv2d(1, 32, kernel_size=(3, 3), stride=(1, 1), padding=(1, 1))\n",
              "    (1): ReLU()\n",
              "    (2): MaxPool2d(kernel_size=2, stride=2, padding=0, dilation=1, ceil_mode=False)\n",
              "    (3): Conv2d(32, 64, kernel_size=(3, 3), stride=(1, 1), padding=(1, 1))\n",
              "    (4): ReLU()\n",
              "    (5): MaxPool2d(kernel_size=2, stride=2, padding=0, dilation=1, ceil_mode=False)\n",
              "  )\n",
              "  (linear_encoder): Sequential(\n",
              "    (0): Linear(in_features=3136, out_features=128, bias=True)\n",
              "    (1): ReLU()\n",
              "  )\n",
              "  (linear_decoder): Sequential(\n",
              "    (0): Linear(in_features=128, out_features=3136, bias=True)\n",
              "    (1): ReLU()\n",
              "  )\n",
              "  (decoder): Sequential(\n",
              "    (0): ConvTranspose2d(64, 32, kernel_size=(2, 2), stride=(2, 2))\n",
              "    (1): ReLU()\n",
              "    (2): ConvTranspose2d(32, 1, kernel_size=(2, 2), stride=(2, 2))\n",
              "    (3): Sigmoid()\n",
              "  )\n",
              ")"
            ]
          },
          "metadata": {},
          "execution_count": 62
        }
      ]
    },
    {
      "cell_type": "code",
      "source": [
        "# Define the loss function and optimizer\n",
        "criterion = nn.BCELoss()  #Binary Cross Entropy between the target and the input probabilities\n",
        "optimizer = optim.Adam(model.parameters(), lr=0.001)\n",
        "\n",
        "# Train the autoencoder\n",
        "num_epochs = 50\n",
        "\n",
        "'''Flowers102: 3m55s'''\n",
        "# print(\"Flowers102:\")\n",
        "# for epoch in range(num_epochs):\n",
        "#     for data in train_loader2:\n",
        "#         img, _ = data\n",
        "#         img = img.to(device)\n",
        "#         optimizer.zero_grad()\n",
        "#         output = model(img)\n",
        "#         loss = criterion(output, img)\n",
        "#         loss.backward()\n",
        "#         optimizer.step()\n",
        "#     if epoch % 5== 0:\n",
        "#         print('Epoch [{}/{}], Loss: {:.4f}'.format(epoch+1, num_epochs, loss.item()))\n",
        "\n",
        "'''MNIST: 6m22s-7m38s'''\n",
        "print(\"MNIST\")\n",
        "for epoch in range(num_epochs):\n",
        "    for data in train_loader:\n",
        "        img, _ = data\n",
        "        img = img.to(device)\n",
        "        optimizer.zero_grad()\n",
        "        output = model(img)\n",
        "        loss = criterion(output, img)\n",
        "        loss.backward()\n",
        "        optimizer.step()\n",
        "    if epoch % 5== 0:\n",
        "        print('Epoch [{}/{}], Loss: {:.4f}'.format(epoch+1, num_epochs, loss.item()))"
      ],
      "metadata": {
        "colab": {
          "base_uri": "https://localhost:8080/"
        },
        "id": "4UJM4UnKz2LC",
        "outputId": "74d1e44c-0f47-4d76-d6c5-8d08b3469cc5"
      },
      "execution_count": 63,
      "outputs": [
        {
          "output_type": "stream",
          "name": "stdout",
          "text": [
            "MNIST\n",
            "Epoch [1/50], Loss: 0.0984\n",
            "Epoch [6/50], Loss: 0.0771\n",
            "Epoch [11/50], Loss: 0.0688\n",
            "Epoch [16/50], Loss: 0.0677\n",
            "Epoch [21/50], Loss: 0.0701\n",
            "Epoch [26/50], Loss: 0.0683\n",
            "Epoch [31/50], Loss: 0.0665\n",
            "Epoch [36/50], Loss: 0.0666\n",
            "Epoch [41/50], Loss: 0.0694\n",
            "Epoch [46/50], Loss: 0.0675\n"
          ]
        }
      ]
    },
    {
      "cell_type": "markdown",
      "source": [
        "> Nota-se que com o *learning rate* de 0.001 e a dada configuração do modelo, a função de perda oscila ao invés de convergir para um valor conforme passam as epochs.\n",
        "\n",
        "Treinando o modelo com *learning rate* de 0.0005:"
      ],
      "metadata": {
        "id": "c3zgdN8j7RiW"
      }
    },
    {
      "cell_type": "code",
      "source": [
        "# Define the loss function and optimizer\n",
        "criterion = nn.BCELoss()\n",
        "optimizer = optim.Adam(model.parameters(), lr=0.0005)\n",
        "\n",
        "# Train the autoencoder\n",
        "num_epochs = 50\n",
        "\n",
        "ep = []\n",
        "l = []\n",
        "\n",
        "'''MNIST: 6m22s'''\n",
        "print(\"MNIST\")\n",
        "for epoch in range(num_epochs):\n",
        "    for data in train_loader:\n",
        "        img, _ = data\n",
        "        img = img.to(device)\n",
        "        optimizer.zero_grad()\n",
        "        output = model(img)\n",
        "        loss = criterion(output, img)\n",
        "        loss.backward()\n",
        "        optimizer.step()\n",
        "        # save data\n",
        "        ep.append(epoch+1)\n",
        "        l.append(loss.item())\n",
        "    if epoch % 5== 0:\n",
        "        print('Epoch [{}/{}], Loss: {:.4f}'.format(epoch+1, num_epochs, loss.item()))"
      ],
      "metadata": {
        "colab": {
          "base_uri": "https://localhost:8080/"
        },
        "id": "C7kXc7kt7iqC",
        "outputId": "0050e5f9-931b-415c-d147-07e4b6ec7827"
      },
      "execution_count": 82,
      "outputs": [
        {
          "output_type": "stream",
          "name": "stdout",
          "text": [
            "MNIST\n",
            "Epoch [1/50], Loss: 0.0656\n",
            "Epoch [6/50], Loss: 0.0662\n",
            "Epoch [11/50], Loss: 0.0644\n",
            "Epoch [16/50], Loss: 0.0697\n",
            "Epoch [21/50], Loss: 0.0675\n",
            "Epoch [26/50], Loss: 0.0678\n",
            "Epoch [31/50], Loss: 0.0647\n",
            "Epoch [36/50], Loss: 0.0620\n",
            "Epoch [41/50], Loss: 0.0701\n",
            "Epoch [46/50], Loss: 0.0682\n"
          ]
        }
      ]
    },
    {
      "cell_type": "code",
      "source": [
        "# Remember that we can see how the loss are changing along the epochs\n",
        "import matplotlib.pyplot as plt\n",
        "\n",
        "plt.plot(ep, l)\n",
        "plt.xlabel('Epochs')\n",
        "plt.ylabel('Loss')\n",
        "plt.title('Training Autoencoder')\n",
        "plt.legend(['Training'])\n",
        "plt.show()"
      ],
      "metadata": {
        "colab": {
          "base_uri": "https://localhost:8080/",
          "height": 472
        },
        "id": "tP1OXtWu-qsH",
        "outputId": "5d3a2ab4-307d-4ed2-cc4d-37e28e73bd7b"
      },
      "execution_count": 84,
      "outputs": [
        {
          "output_type": "display_data",
          "data": {
            "text/plain": [
              "<Figure size 640x480 with 1 Axes>"
            ],
            "image/png": "[encoded data removed]"
          },
          "metadata": {}
        }
      ]
    },
    {
      "cell_type": "markdown",
      "source": [
        "> Por alguma razão o modelo não está convergindo para um valor de perda... (?)"
      ],
      "metadata": {
        "id": "ZYh_cc7RAskJ"
      }
    },
    {
      "cell_type": "markdown",
      "source": [
        "Links:\n",
        "* https://www.geeksforgeeks.org/implement-convolutional-autoencoder-in-pytorch-with-cuda/\n",
        "* https://pytorch.org/vision/main/generated/torchvision.datasets.Flowers102.html\n",
        "* https://discuss.pytorch.org/t/how-to-convert-to-linear/93315"
      ],
      "metadata": {
        "id": "WSXx1R9Z6f8x"
      }
    }
  ]
}